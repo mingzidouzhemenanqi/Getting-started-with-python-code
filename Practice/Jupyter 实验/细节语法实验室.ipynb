{
 "cells": [
  {
   "cell_type": "code",
   "execution_count": 5,
   "metadata": {},
   "outputs": [
    {
     "name": "stdout",
     "output_type": "stream",
     "text": [
      "函数内a： [11, 12, 13]\n",
      "函数内b： [0, 0]\n",
      "函数内b： [0, 0]\n",
      "函数外a： [11, 12, 13]\n",
      "函数外b： [13, 14]\n"
     ]
    }
   ],
   "source": [
    "'''变量作用域实验'''\n",
    "\n",
    "a = [11,12]\n",
    "b = [13,14]\n",
    "\n",
    "def x():\n",
    "    a.append(13)\n",
    "    print(\"函数内a：\",a)\n",
    "    b = [0,0]\n",
    "    print(\"函数内b：\",b)\n",
    "   # global b\n",
    "    b = [0,0]\n",
    "    print(\"函数内b：\",b)\n",
    "\n",
    "x()\n",
    "print(\"函数外a：\",a)\n",
    "print(\"函数外b：\",b)"
   ]
  },
  {
   "cell_type": "code",
   "execution_count": 6,
   "metadata": {},
   "outputs": [
    {
     "name": "stdout",
     "output_type": "stream",
     "text": [
      "t:<function <lambda> at 0x000002EC7D23B730>\n",
      "t():1\n",
      "compute(2,3,4,5):<function compute.<locals>.<lambda> at 0x000002EC7D280378>\n",
      "compute(2,3,4,5)()69\n"
     ]
    }
   ],
   "source": [
    "'''匿名函数实验'''\n",
    "\n",
    "t = lambda :1  #不带参数的匿名函数，并赋值给变量t\n",
    "print('t:{0}'.format(t))  #t是一个匿名函数的引用\n",
    "print('t():{0}'.format(t()))  #通过变量名（）方式调用匿名函数，得到函数的计算结果\n",
    "\n",
    "#函数的返回值是一个匿名函数\n",
    "def compute(a,b,c,x):\n",
    "    return lambda: a * x**2 + b * x + c\n",
    "\n",
    "#直接输出返回结果是匿名函数的引用\n",
    "print('compute(2,3,4,5):{0}'.format(compute(2,3,4,5)))\n",
    "#如果函数的返回值是一个匿名函数，表达式结尾必须加（）\n",
    "print('compute(2,3,4,5)(){0}'.format(compute(2,3,4,5)()))\n"
   ]
  }
 ],
 "metadata": {
  "kernelspec": {
   "display_name": "Python 3",
   "language": "python",
   "name": "python3"
  },
  "language_info": {
   "codemirror_mode": {
    "name": "ipython",
    "version": 3
   },
   "file_extension": ".py",
   "mimetype": "text/x-python",
   "name": "python",
   "nbconvert_exporter": "python",
   "pygments_lexer": "ipython3",
   "version": "3.7.1"
  }
 },
 "nbformat": 4,
 "nbformat_minor": 2
}
