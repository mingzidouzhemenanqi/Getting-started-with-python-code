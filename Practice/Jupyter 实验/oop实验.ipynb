{
 "cells": [
  {
   "cell_type": "code",
   "execution_count": 7,
   "metadata": {},
   "outputs": [],
   "source": [
    "class AA:\n",
    "    def __init__ (self,rabbit,rolf):\n",
    "        self.rabbit = rabbit\n",
    "        self.rolf = rolf\n",
    "    \n",
    "    def eat (self):\n",
    "        print(\"{0} eat {1}\".format(self.rabbit,self.rolf))\n",
    "    \n",
    "    def wait (self,x):\n",
    "        self.c = x\n",
    "        print(\"{0} eat {1}\".format(self.rabbit,self.c))"
   ]
  },
  {
   "cell_type": "code",
   "execution_count": 8,
   "metadata": {},
   "outputs": [
    {
     "name": "stdout",
     "output_type": "stream",
     "text": [
      "a eat b\n",
      "a eat k\n"
     ]
    }
   ],
   "source": [
    "s = AA('a', 'b')\n",
    "s.eat()\n",
    "s.wait('k')"
   ]
  },
  {
   "cell_type": "code",
   "execution_count": 7,
   "metadata": {},
   "outputs": [],
   "source": [
    "#《驱动》,三种方法的调用\n",
    "class foo:\n",
    "    animals = '兔子'\n",
    "    \n",
    "    def __init__ (self, feature):\n",
    "        self.feature = feature\n",
    "    \n",
    "    #普通方法\n",
    "    def print(self):\n",
    "        print('调用了普通方法')\n",
    "        print('{0}的特征是：{1}'.format(self.animals, self.feature))\n",
    "    \n",
    "    @classmethod#类方法装饰器声明\n",
    "    #定义类方法，至少有一个cls参数，不能使用实例变量\n",
    "    def enemy(cls, name):\n",
    "        print('调用了静态方法')\n",
    "        eatName = name   #静态方法内的变量，类外部不可用\n",
    "        #通过cls.类变量名访问类变量（静态变量）\n",
    "        print('{0}的天敌是{1}'.format(cls.animals,eatName))\n",
    "        \n",
    "    @staticmethod#静态方法装饰器声明\n",
    "    def eat(name):  #定义静态方法，无默认参数，不能使用实例变量\n",
    "        print('调用了静态方法')\n",
    "        eatName = name   #eatName静态方法内的变量，类外不可用\n",
    "        print('{0}的食物是{1}'.format(foo.animals, eatName))\n",
    "        "
   ]
  },
  {
   "cell_type": "code",
   "execution_count": 8,
   "metadata": {},
   "outputs": [
    {
     "name": "stdout",
     "output_type": "stream",
     "text": [
      "调用了普通方法\n",
      "兔子的特征是：['长耳朵', '三瓣嘴', '两颗大门牙', '毛柔软', '红眼睛']\n",
      "调用了静态方法\n",
      "兔子的天敌是['狼', '老鼠']\n",
      "调用了静态方法\n",
      "兔子的天敌是['黄鼠狼', '狐狸']\n",
      "调用了静态方法\n",
      "兔子的食物是['青草', '胡萝卜', '白菜', '薯类']\n",
      "调用了静态方法\n",
      "兔子的食物是['苹果', '南瓜', '蒲公英', '车前草']\n"
     ]
    }
   ],
   "source": [
    "t = foo(['长耳朵','三瓣嘴','两颗大门牙','毛柔软','红眼睛'])\n",
    "t.print()\n",
    "t.enemy(['狼','老鼠'])\n",
    "foo.enemy(['黄鼠狼','狐狸'])\n",
    "t.eat(['青草','胡萝卜','白菜','薯类'])\n",
    "foo.eat(['苹果','南瓜','蒲公英','车前草'])"
   ]
  },
  {
   "cell_type": "code",
   "execution_count": 1,
   "metadata": {},
   "outputs": [],
   "source": [
    "#继承类实验\n",
    "\n",
    "class person:  #定义父类person\n",
    "    countperson = 0\n",
    "    #定义父类的构造方法，有两个实例变量\n",
    "    def __init__ (self, name, age):\n",
    "        self.name = name\n",
    "        self.age = age\n",
    "        person.countperson = person.countperson + 1\n",
    "        self._countprint()  #调用本类的私有方法\n",
    "        \n",
    "    def out (self):\n",
    "        print('Name:{0}, Age:{1}'.format(self.name, self.age))\n",
    "    \n",
    "    def eat(self, cook):\n",
    "        print('I am eating {0}'.format(cook))\n",
    "    \n",
    "    #定义私有方法，不能访问实例变量，不能被子类访问\n",
    "    @classmethod\n",
    "    def _countprint(cls):\n",
    "        print('Person的构造方法，人数:{0}'.format(Person.countperson))\n",
    "\n",
    "#定义子类\n",
    "class student(person):\n",
    "    _countstudent = 0  #定义子类的私有变量\n",
    "    def __init__ (self, name, age, grades):    #定义子类的构造方法\n",
    "        #显示调用父类构造方法，子类自动集成父类实例变量\n",
    "        person.__init__(self, name, age)\n",
    "        self.grades = grades  #初始化子类新增实例变量grades\n",
    "        student._countstudent = student._countstudent+1 \n",
    "        self._countprint()   #调用子类私有方法\n",
    "    \n",
    "    def out(self):   #重写父类同名方法out()\n",
    "        person.out(self)    #调用父类同名方法out()\n",
    "        print('成绩为：{0}'.format(self.grades))\n",
    "    \n",
    "    def study(self, course):   #子类新增方法\n",
    "        print('我在学习{}课程'.format(course))\n",
    "        \n",
    "    @classmethod#定义子类私有方法\n",
    "    def _countprint(cls):\n",
    "        print('student的构造方法：学生人数为{}'.format(student._countstudent))\n",
    "    \n",
    "#定义teacher类，继承自person类\n",
    "class teacher (person):\n",
    "    _countteacher = 0\n",
    "    def __init__ (self, name, age, salary):\n",
    "        person.__init__(self, name, age)\n",
    "        self.salary = salary\n",
    "        teacher._countteacher += 1\n",
    "        self._countprint()\n",
    "        \n",
    "    def out (self):\n",
    "        person.out(self)\n",
    "        print('工资为：{}'.format(self.salary))\n",
    "    \n",
    "    def work (self, course):\n",
    "        print('我在教授{}这门课程'.format(course))\n",
    "        \n",
    "    @classmethod\n",
    "    def _countprint(cls):\n",
    "        print('teacher的构造方法：老师人数为{}'.format(teacher._countteacher))\n",
    "    \n",
    "        \n",
    "        \n",
    "    "
   ]
  },
  {
   "cell_type": "code",
   "execution_count": 2,
   "metadata": {},
   "outputs": [
    {
     "name": "stdout",
     "output_type": "stream",
     "text": [
      "student的构造方法：学生人数为0\n",
      "student的构造方法：学生人数为1\n",
      "teacher的构造方法：老师人数为0\n",
      "teacher的构造方法：老师人数为1\n",
      "Name:1, Age:19\n",
      "成绩为：[80, 90, 77]\n",
      "我在学习['python', '数据结构', 'math']课程\n",
      "I am eating 鸡\n",
      "Name:2, Age:35\n",
      "工资为：8000\n",
      "我在教授python这门课程\n",
      "I am eating bread\n",
      "True\n",
      "person的父类: (<class 'object'>,)\n",
      "teacher的父类 (<class '__main__.person'>,)\n",
      "isinstance(t, teacher)\n",
      "s的对象类是： <class '__main__.student'>\n"
     ]
    },
    {
     "ename": "AttributeError",
     "evalue": "'student' object has no attribute '__countprint'",
     "output_type": "error",
     "traceback": [
      "\u001b[1;31m---------------------------------------------------------------------------\u001b[0m",
      "\u001b[1;31mAttributeError\u001b[0m                            Traceback (most recent call last)",
      "\u001b[1;32m<ipython-input-2-a49694ef3927>\u001b[0m in \u001b[0;36m<module>\u001b[1;34m\u001b[0m\n\u001b[0;32m     14\u001b[0m \u001b[0mprint\u001b[0m\u001b[1;33m(\u001b[0m\u001b[1;34m'isinstance(t, teacher)'\u001b[0m\u001b[1;33m)\u001b[0m\u001b[1;33m\u001b[0m\u001b[1;33m\u001b[0m\u001b[0m\n\u001b[0;32m     15\u001b[0m \u001b[0mprint\u001b[0m\u001b[1;33m(\u001b[0m\u001b[1;34m's的对象类是：'\u001b[0m\u001b[1;33m,\u001b[0m\u001b[0ms\u001b[0m\u001b[1;33m.\u001b[0m\u001b[0m__class__\u001b[0m\u001b[1;33m)\u001b[0m\u001b[1;31m#__class__属性指明某个对象所属的类\u001b[0m\u001b[1;33m\u001b[0m\u001b[1;33m\u001b[0m\u001b[0m\n\u001b[1;32m---> 16\u001b[1;33m \u001b[0ms\u001b[0m\u001b[1;33m.\u001b[0m\u001b[0m__countprint\u001b[0m\u001b[1;33m(\u001b[0m\u001b[1;33m)\u001b[0m  \u001b[1;31m#子类对象不能调用父类的私有方法\u001b[0m\u001b[1;33m\u001b[0m\u001b[1;33m\u001b[0m\u001b[0m\n\u001b[0m",
      "\u001b[1;31mAttributeError\u001b[0m: 'student' object has no attribute '__countprint'"
     ]
    }
   ],
   "source": [
    "s = student('1', 19, [80, 90, 77])#初始化子类student的实例对象s\n",
    "t = teacher('2', 35, 8000)#初始化子类teacher的实例对象t\n",
    "s.out()  #调用子类student的方法out\n",
    "s.study(['python', '数据结构', 'math'])  #调用子类student的方法study()\n",
    "s.eat('鸡')   #调用父类person的方法eat()\n",
    "t.out()\n",
    "t.work('python')\n",
    "t.eat('bread')\n",
    "#issubclass函数检测第一个参数是否是第二个参数的子类\n",
    "print(issubclass(student, person))\n",
    "print('person的父类:',person.__bases__)\n",
    "print('teacher的父类', teacher.__bases__)\n",
    "#isinstance()检测某个对象是否是某个类的实例\n",
    "print('isinstance(t, teacher)')\n",
    "print('s的对象类是：',s.__class__)#__class__属性指明某个对象所属的类\n",
    "s.__countprint()  #子类对象不能调用父类的私有方法"
   ]
  }
 ],
 "metadata": {
  "kernelspec": {
   "display_name": "Python 3",
   "language": "python",
   "name": "python3"
  },
  "language_info": {
   "codemirror_mode": {
    "name": "ipython",
    "version": 3
   },
   "file_extension": ".py",
   "mimetype": "text/x-python",
   "name": "python",
   "nbconvert_exporter": "python",
   "pygments_lexer": "ipython3",
   "version": "3.7.1"
  }
 },
 "nbformat": 4,
 "nbformat_minor": 2
}
