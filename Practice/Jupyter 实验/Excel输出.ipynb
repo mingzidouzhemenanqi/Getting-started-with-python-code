{
 "cells": [
  {
   "cell_type": "code",
   "execution_count": null,
   "metadata": {},
   "outputs": [],
   "source": [
    "import xlrd\n",
    "year = list(range(1978,2007))\n",
    "\n",
    "ExcelFile=xlrd.open_workbook(r'C:\\Users\\Forry\\Desktop\\计量实验.xlsx')\n",
    "\n"
   ]
  },
  {
   "cell_type": "code",
   "execution_count": 3,
   "metadata": {},
   "outputs": [
    {
     "name": "stdout",
     "output_type": "stream",
     "text": [
      "['CPI', 100.7, 101.9, 106.7, 102.5, 102.0, 101.7, 102.7, 109.3, 106.5, 107.3, 118.8, 118.0, 103.1, 103.4, 106.4, 114.7, 124.1, 117.1, 108.3, 102.8, 99.2, 98.6, 100.4, 100.7, 99.2, 101.2, 103.9, 101.8, 101.5]\n"
     ]
    }
   ],
   "source": [
    "sheet1 = ExcelFile.sheet_by_index(0)#通过索引获取表格\n",
    "#cost = sheet1.col_values(0)#获取列内容\n",
    "#gdp = sheet1.col_values(1)#获取列内容\n",
    "cpi = sheet1.col_values(3)\n",
    "print(cpi)\n"
   ]
  },
  {
   "cell_type": "code",
   "execution_count": 12,
   "metadata": {},
   "outputs": [
    {
     "name": "stdout",
     "output_type": "stream",
     "text": [
      "[1, 1.0190000000000001, 1.0872730000000002, 1.1144548250000001, 1.1367439215000001, 1.1560685681655003, 1.1872824195059688, 1.297699684520024, 1.3820501640138254, 1.4829398259868347, 1.7617325132723596, 2.078844365661384, 2.1432885409968865, 2.216160351390781, 2.3579946138797907, 2.70461982212012, 3.356433199251069, 3.9303832763230013, 4.25660508825781, 4.3757900307290285, 4.340783710483197, 4.280012738536431, 4.297132789490577, 4.3272127190170115, 4.292595017264875, 4.344106157472054, 4.513526297613464, 4.594769770970506, 4.663691317535064]\n",
      "29\n"
     ]
    }
   ],
   "source": [
    "a=[1]\n",
    "b=len(cpi)\n",
    "d=1\n",
    "for i in range(2,b):\n",
    "    d=d*cpi[i]/100\n",
    "    a.append(d)\n",
    "print(a)\n",
    "print(len(a))\n",
    "#print(b)\n"
   ]
  },
  {
   "cell_type": "code",
   "execution_count": 37,
   "metadata": {},
   "outputs": [
    {
     "name": "stdout",
     "output_type": "stream",
     "text": [
      "29\n",
      "[184, 204.12168792934247, 218.8962661631439, 236.88712550551338, 253.35521444439937, 273.34018820479, 304.05571081412376, 343.68506467269475, 359.6106805244938, 380.9999503007588, 405.2828648054912, 379.05675528975826, 388.65508962808855, 420.54718622463895, 473.28352381762187, 515.0446612152843, 546.1154419545733, 599.1782058983259, 655.2169962145848, 686.0475431678452, 727.7487685854668, 781.7733741475216, 845.2147461867409, 894.1090376714595, 956.5309523692807, 1015.3987587096336, 1091.1645740502506, 1188.9605513022486, 1310.3354368723299]\n"
     ]
    }
   ],
   "source": [
    "cost = sheet1.col_values(1)\n",
    "f=[184]\n",
    "#print(len(cpi))\n",
    "#print(len(cost))\n",
    "for i in range(2,b):\n",
    "    d=cost[i]/a[i-1]\n",
    "    f.append(d)\n",
    "print(len(f))\n",
    "print(f)"
   ]
  },
  {
   "cell_type": "code",
   "execution_count": 55,
   "metadata": {},
   "outputs": [],
   "source": [
    "from openpyxl import Workbook\n",
    "import numpy as np\n",
    "wb = Workbook()\n",
    "\n",
    "ws = wb.create_sheet(\"che\")\n",
    "label = [['定基CPI'],\n",
    "         ['定基后的人均消费']\n",
    "         ]\n",
    "feature = []\n",
    "feature.append(a)\n",
    "feature.append(f)\n",
    "#这个地方之所以 变成numpy格式是因为在很多时候我们都是在numpy格式下计算的，模拟一下预处理\n",
    "label = np.array(label)\n",
    "feature = np.array(feature)\n",
    "\n",
    "label_input = []\n",
    "for l in range(len(label)):\n",
    "    label_input.append(label[l][0])\n",
    "\n",
    "\n",
    "#print(label_input)\n",
    "ws.append(label_input)\n",
    "#print(feature)\n",
    "#print(len(feature))\n",
    "\n",
    "\n",
    "for t in range(29):\n",
    "    ws.append(feature[:, t].tolist())\n",
    "wb.save(\"chehongshu.xlsx\")\n"
   ]
  },
  {
   "cell_type": "code",
   "execution_count": 11,
   "metadata": {},
   "outputs": [],
   "source": [
    "import matplotlib.pyplot as plt\n",
    "import numpy as np\n",
    "import pandas as pd\n",
    "from scipy.optimize import leastsq\n",
    "import scipy as sp"
   ]
  },
  {
   "cell_type": "code",
   "execution_count": 10,
   "metadata": {
    "collapsed": true
   },
   "outputs": [
    {
     "data": {
      "image/png": "[encoded data removed]",
      "text/plain": [
       "<Figure size 432x288 with 1 Axes>"
      ]
     },
     "metadata": {
      "needs_background": "light"
     },
     "output_type": "display_data"
    }
   ],
   "source": [
    "plt.plot(year, cost)\n",
    "plt.show()"
   ]
  },
  {
   "cell_type": "code",
   "execution_count": null,
   "metadata": {},
   "outputs": [],
   "source": []
  }
 ],
 "metadata": {
  "kernelspec": {
   "display_name": "Python 3",
   "language": "python",
   "name": "python3"
  },
  "language_info": {
   "codemirror_mode": {
    "name": "ipython",
    "version": 3
   },
   "file_extension": ".py",
   "mimetype": "text/x-python",
   "name": "python",
   "nbconvert_exporter": "python",
   "pygments_lexer": "ipython3",
   "version": "3.7.3"
  }
 },
 "nbformat": 4,
 "nbformat_minor": 2
}
