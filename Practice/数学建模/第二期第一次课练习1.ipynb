{
 "cells": [
  {
   "cell_type": "code",
   "execution_count": 1,
   "metadata": {},
   "outputs": [
    {
     "name": "stdout",
     "output_type": "stream",
     "text": [
      "[0.6  0.35 0.15]\n"
     ]
    }
   ],
   "source": [
    "#  求解线性方程组\n",
    "\n",
    "from scipy import linalg\n",
    "import numpy as np\n",
    "\n",
    "# x1 + x2 + 7*x3 = 2\n",
    "# 2*x1 + 3*x2 + 5*x3 = 3\n",
    "# 4*x1 + 2*x2 + 6*x3 = 4\n",
    "\n",
    "A = np.array([[1, 1, 7], [2, 3, 5], [4, 2, 6]])  # A代表系数矩阵\n",
    "b = np.array([2, 3, 4])  # b代表常数列\n",
    "x = linalg.solve(A, b)\n",
    "print(x)\n"
   ]
  },
  {
   "cell_type": "code",
   "execution_count": 11,
   "metadata": {},
   "outputs": [
    {
     "name": "stdout",
     "output_type": "stream",
     "text": [
      "4037913\n"
     ]
    }
   ],
   "source": [
    "#阶乘\n",
    "s=0\n",
    "def jiecheng(i):\n",
    "    a=1\n",
    "    for k in range(1,i+1):\n",
    "        #print(k)\n",
    "        a=a*k\n",
    "    return a\n",
    "for i in range(1,11):\n",
    "    j=jiecheng(i)\n",
    "    #print(j)\n",
    "    s = s+j\n",
    "print(s)\n",
    "    "
   ]
  },
  {
   "cell_type": "code",
   "execution_count": 20,
   "metadata": {},
   "outputs": [
    {
     "name": "stdout",
     "output_type": "stream",
     "text": [
      "[[ 5  0  0  0  0]\n",
      " [-1  5  0  0  0]\n",
      " [ 0 -1  5  0  0]\n",
      " [ 0  0 -1  5  0]\n",
      " [ 0  0  0 -1  5]]\n"
     ]
    },
    {
     "data": {
      "text/html": [
       "<div>\n",
       "<style scoped>\n",
       "    .dataframe tbody tr th:only-of-type {\n",
       "        vertical-align: middle;\n",
       "    }\n",
       "\n",
       "    .dataframe tbody tr th {\n",
       "        vertical-align: top;\n",
       "    }\n",
       "\n",
       "    .dataframe thead th {\n",
       "        text-align: right;\n",
       "    }\n",
       "</style>\n",
       "<table border=\"1\" class=\"dataframe\">\n",
       "  <thead>\n",
       "    <tr style=\"text-align: right;\">\n",
       "      <th></th>\n",
       "      <th>0</th>\n",
       "      <th>1</th>\n",
       "      <th>2</th>\n",
       "      <th>3</th>\n",
       "      <th>4</th>\n",
       "    </tr>\n",
       "  </thead>\n",
       "  <tbody>\n",
       "    <tr>\n",
       "      <th>0</th>\n",
       "      <td>5</td>\n",
       "      <td>0</td>\n",
       "      <td>0</td>\n",
       "      <td>0</td>\n",
       "      <td>0</td>\n",
       "    </tr>\n",
       "    <tr>\n",
       "      <th>1</th>\n",
       "      <td>-1</td>\n",
       "      <td>5</td>\n",
       "      <td>0</td>\n",
       "      <td>0</td>\n",
       "      <td>0</td>\n",
       "    </tr>\n",
       "    <tr>\n",
       "      <th>2</th>\n",
       "      <td>0</td>\n",
       "      <td>-1</td>\n",
       "      <td>5</td>\n",
       "      <td>0</td>\n",
       "      <td>0</td>\n",
       "    </tr>\n",
       "    <tr>\n",
       "      <th>3</th>\n",
       "      <td>0</td>\n",
       "      <td>0</td>\n",
       "      <td>-1</td>\n",
       "      <td>5</td>\n",
       "      <td>0</td>\n",
       "    </tr>\n",
       "    <tr>\n",
       "      <th>4</th>\n",
       "      <td>0</td>\n",
       "      <td>0</td>\n",
       "      <td>0</td>\n",
       "      <td>-1</td>\n",
       "      <td>5</td>\n",
       "    </tr>\n",
       "  </tbody>\n",
       "</table>\n",
       "</div>"
      ],
      "text/plain": [
       "   0  1  2  3  4\n",
       "0  5  0  0  0  0\n",
       "1 -1  5  0  0  0\n",
       "2  0 -1  5  0  0\n",
       "3  0  0 -1  5  0\n",
       "4  0  0  0 -1  5"
      ]
     },
     "execution_count": 20,
     "metadata": {},
     "output_type": "execute_result"
    }
   ],
   "source": [
    "import pandas as pd\n",
    "\n",
    "a = 5*np.eye(5,dtype=int)+(-1)*np.eye(5,k=-1,dtype=int)\n",
    "\n",
    "print(a)\n",
    "pd.DataFrame(a)\n"
   ]
  },
  {
   "cell_type": "code",
   "execution_count": 2,
   "metadata": {},
   "outputs": [
    {
     "name": "stdout",
     "output_type": "stream",
     "text": [
      "请输入一个整数：7\n",
      "7不是一个斐波那契数,8是距7最近的斐波那契数\n"
     ]
    }
   ],
   "source": [
    "#判断输入数n是否为Fibonacci数。\n",
    "#输入正整数N，输出比N小的最大素数Fibonacci数和比N大的最小素数Fibonacci数\n",
    "\n",
    "num = int(input(\"请输入一个整数：\"))\n",
    "a = 0\n",
    "b = 1\n",
    "i = 0\n",
    "t = 0\n",
    "while a<num:\n",
    "    t = a\n",
    "    a,b = b,a+b\n",
    "    i += 1\n",
    "if a == num:\n",
    "    print(\"{}是第{}位斐波那契数\".format(num,i))\n",
    "else:\n",
    "    print(\"{}不是一个斐波那契数\".format(num),end=',')\n",
    "if num-t>a-num:\n",
    "    print(\"{}是距{}最近的斐波那契数\".format(a,num))\n",
    "elif num-t<a-num:\n",
    "    print(\"{}是距{}最近的斐波那契数\".format(t, num))\n",
    "elif num-t == a - num:\n",
    "    print(\"{},{}是距离{}最近的斐波那契数\".format(t,a,num))\n"
   ]
  },
  {
   "cell_type": "code",
   "execution_count": null,
   "metadata": {},
   "outputs": [],
   "source": [
    "num = int(input(\"请输入一个整数：\"))\n",
    "# 质数大于 1\n",
    "if num > 1:\n",
    "   # 查看因子\n",
    "   for i in range(2,num):\n",
    "        if (num % i) == 0:\n",
    "            print(num,\"不是质数\")\n",
    "            print(i,\"乘于\",num//i,\"是\",num)\n",
    "            break\n",
    "        else:\n",
    "            print(num,\"是质数\")\n",
    "\n",
    "# 如果输入的数字小于或等于 1，不是质数\n",
    "else:\n",
    "    print(num,\"不是质数\")\n",
    "    \n"
   ]
  },
  {
   "cell_type": "code",
   "execution_count": 5,
   "metadata": {},
   "outputs": [
    {
     "name": "stdout",
     "output_type": "stream",
     "text": [
      "请输入月份：3\n",
      "请输入日期：5\n",
      "这天是星期4\n"
     ]
    }
   ],
   "source": [
    "def jisuanxingqi (a):\n",
    "    b = a%7 \n",
    "    if b in [0,1,2,3,4,5]:\n",
    "        i=2+b-1\n",
    "        print(\"这天是星期{}\".format(i))\n",
    "    elif b==6 :\n",
    "        print(\"这天是星期日\")\n",
    "\n",
    "def tianshu(a,b):\n",
    "    y = [31,28,31,30,31,30,31,31,30,31,30,31]\n",
    "    k=b\n",
    "    for i in range(1,a+1):\n",
    "        k = k+y[i]\n",
    "    return k\n",
    "\n",
    "\n",
    "num1 = int(input(\"请输入月份：\"))\n",
    "num2 = int(input(\"请输入日期：\"))\n",
    "\n",
    "k=tianshu(num1,num2)\n",
    "jisuanxingqi(k)\n",
    "    "
   ]
  },
  {
   "cell_type": "code",
   "execution_count": 7,
   "metadata": {},
   "outputs": [
    {
     "name": "stdout",
     "output_type": "stream",
     "text": [
      "请输入一个八位整数20190805\n",
      "155\n"
     ]
    }
   ],
   "source": [
    "num3 = list(input(\"请输入一个八位整数\"))\n",
    "num1 = int(str(num3[4])+str(num3[5]))\n",
    "num1 = int(str(num3[6])+str(num3[7]))\n",
    "k=tianshu(num1,num2)\n",
    "print(k)"
   ]
  }
 ],
 "metadata": {
  "kernelspec": {
   "display_name": "Python 3",
   "language": "python",
   "name": "python3"
  },
  "language_info": {
   "codemirror_mode": {
    "name": "ipython",
    "version": 3
   },
   "file_extension": ".py",
   "mimetype": "text/x-python",
   "name": "python",
   "nbconvert_exporter": "python",
   "pygments_lexer": "ipython3",
   "version": "3.7.3"
  }
 },
 "nbformat": 4,
 "nbformat_minor": 2
}
