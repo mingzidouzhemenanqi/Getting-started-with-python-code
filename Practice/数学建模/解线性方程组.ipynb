{
 "cells": [
  {
   "cell_type": "code",
   "execution_count": null,
   "metadata": {},
   "outputs": [],
   "source": [
    "#  求解线性方程组\n",
    "\n",
    "from scipy import linalg\n",
    "import numpy as np\n",
    "\n",
    "# x1 + x2 + 7*x3 = 2\n",
    "# 2*x1 + 3*x2 + 5*x3 = 3\n",
    "# 4*x1 + 2*x2 + 6*x3 = 4\n",
    "\n",
    "A = np.array([[1, 1, 7], [2, 3, 5], [4, 2, 6]])  # A代表系数矩阵\n",
    "b = np.array([2, 3, 4])  # b代表常数列\n",
    "x = linalg.solve(A, b)\n",
    "print(x)"
   ]
  }
 ],
 "metadata": {
  "kernelspec": {
   "display_name": "Python 3",
   "language": "python",
   "name": "python3"
  },
  "language_info": {
   "codemirror_mode": {
    "name": "ipython",
    "version": 3
   },
   "file_extension": ".py",
   "mimetype": "text/x-python",
   "name": "python",
   "nbconvert_exporter": "python",
   "pygments_lexer": "ipython3",
   "version": "3.7.3"
  }
 },
 "nbformat": 4,
 "nbformat_minor": 2
}
