{
 "cells": [
  {
   "cell_type": "code",
   "execution_count": 4,
   "metadata": {},
   "outputs": [
    {
     "name": "stdout",
     "output_type": "stream",
     "text": [
      "10.0 [ -62.58596614  -79.08331481  -92.8036596   -70.52302474  -67.48798552\n",
      "  -70.97663852 -110.97542618  -69.49358092  -31.3738119   -69.54137629\n",
      " -106.08239899  -91.91514162  -49.42807281 -106.13023162 -104.47840264\n",
      "  -70.94309257  -26.78097368  -58.78410228  -81.15752559  -45.63504326\n",
      "  -28.09097504  -74.07989493  -38.61306652  -63.92961658  -83.86838085\n",
      "  -15.98918588  -84.83721541  -69.36986164  -73.34388007  -83.97016826]\n"
     ]
    }
   ],
   "source": [
    "import numpy as np\n",
    "import matplotlib.pyplot as plt\n",
    "import math\n",
    "import random\n",
    " \n",
    "#群体规模\n",
    "m=30\n",
    " \n",
    "#惯性权重\n",
    "w=1\n",
    " \n",
    "# 加速常数\n",
    "c1=2\n",
    "c2=5\n",
    " \n",
    "# 最大速度\n",
    "Vmax=3\n",
    " \n",
    "# 最大代数\n",
    "Gmax=100\n",
    " \n",
    "#目标函数，也就是适应度\n",
    "def aimFunction(x1,x2,x3):\n",
    "    #y=x+5*math.sin(5*x)+2*math.cos(4*x)\n",
    "    y = -5*x1 - 4*x2 - 6*x3\n",
    "    return y\n",
    " \n",
    "#左右边界\n",
    "left=0\n",
    "right=10\n",
    "#随机初始化粒子群位置和速度\n",
    "x1=np.random.uniform(left,right,m)\n",
    "x2=np.random.uniform(left,right,m)\n",
    "x3=np.random.uniform(left,right,m)\n",
    "y=-5*x1 - 4*x2 - 6*x3\n",
    "v=np.random.uniform(0,Vmax,m)\n",
    " \n",
    "pbset1=x1.copy()\n",
    "pbset2=x2.copy()\n",
    "pbset3=x3.copy()\n",
    "y_best=y.copy()\n",
    "gbset=x1[y.argmax()]\n",
    " \n",
    "i=0\n",
    " \n",
    "while i<Gmax:\n",
    "    for k in range(m):\n",
    "        v[k] = w * v[k] + c1 * random.random() * (pbset[k] - x[k]) + c2 * random.random() * (gbset - x[k])\n",
    "        # 速度限制\n",
    "        if v[k]>Vmax:\n",
    "            v[k]=Vmax\n",
    "        if v[k]<0:\n",
    "            v[k] = 0.01\n",
    "        x[k]=x[k]+v[k]\n",
    "        if x[k]<left:\n",
    "            x[k]=left\n",
    "        if x[k]>right:\n",
    "            x[k]=right\n",
    "    y=x+5*np.sin(5*x)+2*np.cos(4*x)\n",
    "    for k in range(m):\n",
    "        if y_best[k]<y[k]:\n",
    "            y_best[k]=y[k]\n",
    "            pbset[k]=x[k]\n",
    "    gbset=pbset[y_best.argmax()]\n",
    "    i+=1\n",
    "\n",
    "print(gbset,aimFunction(pbset1,pbset2,pbset3))"
   ]
  },
  {
   "cell_type": "code",
   "execution_count": null,
   "metadata": {},
   "outputs": [],
   "source": []
  }
 ],
 "metadata": {
  "kernelspec": {
   "display_name": "Python 3",
   "language": "python",
   "name": "python3"
  },
  "language_info": {
   "codemirror_mode": {
    "name": "ipython",
    "version": 3
   },
   "file_extension": ".py",
   "mimetype": "text/x-python",
   "name": "python",
   "nbconvert_exporter": "python",
   "pygments_lexer": "ipython3",
   "version": "3.7.0"
  }
 },
 "nbformat": 4,
 "nbformat_minor": 2
}
