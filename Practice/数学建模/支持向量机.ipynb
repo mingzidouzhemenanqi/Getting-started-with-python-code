{
 "cells": [
  {
   "cell_type": "code",
   "execution_count": 5,
   "metadata": {},
   "outputs": [
    {
     "name": "stdout",
     "output_type": "stream",
     "text": [
      "预测...\n"
     ]
    },
    {
     "data": {
      "image/png": "[encoded data removed]",
      "text/plain": [
       "<Figure size 432x288 with 1 Axes>"
      ]
     },
     "metadata": {
      "needs_background": "light"
     },
     "output_type": "display_data"
    }
   ],
   "source": [
    "from sklearn import svm\n",
    "import numpy as np\n",
    "import matplotlib.pyplot as plt\n",
    "\n",
    "#准备训练样本\n",
    "x=[[1,8],[3,20],[1,15],[3,35],[5,35],[4,40],[7,80],[6,49]]\n",
    "y=[1,1,-1,-1,1,-1,-1,1]\n",
    "\n",
    "##开始训练\n",
    "clf=svm.SVC()  ##默认参数：kernel='rbf'\n",
    "clf.fit(x,y)\n",
    "\n",
    "print(\"预测...\")\n",
    "res=clf.predict([[2,2]])  ##两个方括号表面传入的参数是矩阵而不是list\n",
    "\n",
    "##根据训练出的模型绘制样本点\n",
    "for i in x:\n",
    "    res=clf.predict(np.array(i).reshape(1, -1))\n",
    "    if res > 0:\n",
    "        plt.scatter(i[0],i[1],c='r',marker='*')\n",
    "    else :\n",
    "        plt.scatter(i[0],i[1],c='g',marker='*')\n",
    "\n",
    "##生成随机实验数据(15行2列)\n",
    "rdm_arr=np.random.randint(1, 15, size=(15,2))\n",
    "##回执实验数据点\n",
    "for i in rdm_arr:\n",
    "    res=clf.predict(np.array(i).reshape(1, -1))\n",
    "    if res > 0:\n",
    "        plt.scatter(i[0],i[1],c='r',marker='.')\n",
    "    else :\n",
    "        plt.scatter(i[0],i[1],c='g',marker='.')\n",
    "##显示绘图结果\n",
    "plt.show()"
   ]
  }
 ],
 "metadata": {
  "kernelspec": {
   "display_name": "Python 3",
   "language": "python",
   "name": "python3"
  },
  "language_info": {
   "codemirror_mode": {
    "name": "ipython",
    "version": 3
   },
   "file_extension": ".py",
   "mimetype": "text/x-python",
   "name": "python",
   "nbconvert_exporter": "python",
   "pygments_lexer": "ipython3",
   "version": "3.7.0"
  }
 },
 "nbformat": 4,
 "nbformat_minor": 2
}
