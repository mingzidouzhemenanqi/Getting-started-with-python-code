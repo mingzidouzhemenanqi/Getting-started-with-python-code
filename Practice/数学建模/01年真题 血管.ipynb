{
 "cells": [
  {
   "cell_type": "code",
   "execution_count": 26,
   "metadata": {},
   "outputs": [
    {
     "ename": "ModuleNotFoundError",
     "evalue": "No module named 'cv2'",
     "output_type": "error",
     "traceback": [
      "\u001b[1;31m---------------------------------------------------------------------------\u001b[0m",
      "\u001b[1;31mModuleNotFoundError\u001b[0m                       Traceback (most recent call last)",
      "\u001b[1;32m<ipython-input-26-a9faea8af3d3>\u001b[0m in \u001b[0;36m<module>\u001b[1;34m\u001b[0m\n\u001b[0;32m      3\u001b[0m \u001b[1;32mimport\u001b[0m \u001b[0mnumpy\u001b[0m \u001b[1;32mas\u001b[0m \u001b[0mnp\u001b[0m\u001b[1;33m\u001b[0m\u001b[1;33m\u001b[0m\u001b[0m\n\u001b[0;32m      4\u001b[0m \u001b[1;32mimport\u001b[0m \u001b[0mmatplotlib\u001b[0m\u001b[1;33m.\u001b[0m\u001b[0mpyplot\u001b[0m \u001b[1;32mas\u001b[0m \u001b[0mplt\u001b[0m\u001b[1;33m\u001b[0m\u001b[1;33m\u001b[0m\u001b[0m\n\u001b[1;32m----> 5\u001b[1;33m \u001b[1;32mimport\u001b[0m \u001b[0mcv2\u001b[0m\u001b[1;33m\u001b[0m\u001b[1;33m\u001b[0m\u001b[0m\n\u001b[0m",
      "\u001b[1;31mModuleNotFoundError\u001b[0m: No module named 'cv2'"
     ]
    }
   ],
   "source": [
    "import pandas as pd\n",
    "from skimage import measure,draw\n",
    "import numpy as np\n",
    "import matplotlib.pyplot as plt\n",
    "import cv2"
   ]
  },
  {
   "cell_type": "code",
   "execution_count": 39,
   "metadata": {},
   "outputs": [
    {
     "name": "stdout",
     "output_type": "stream",
     "text": [
      "[[255 255 255 ... 255 255 255]\n",
      " [255 255 255 ... 255 255 255]\n",
      " [255 255 255 ... 255 255 255]\n",
      " ...\n",
      " [255 255 255 ... 255 255 255]\n",
      " [255 255 255 ... 255 255 255]\n",
      " [255 255 255 ... 255 255 255]]\n"
     ]
    }
   ],
   "source": [
    "'''读取文件'''\n",
    "\n",
    "# coding=gbk\n",
    "from PIL import Image\n",
    "import numpy as np\n",
    "# import scipy\n",
    "\n",
    "def loadImage():\n",
    "    # 读取图片\n",
    "    im = Image.open(\"C:/Users/Forry/Desktop/2001年a/99.bmp\")\n",
    "\n",
    "    # 显示图片\n",
    "    #im.show() \n",
    "    \n",
    "    im = im.convert(\"L\") \n",
    "    data = im.getdata()\n",
    "    data = np.matrix(data)\n",
    "#     print data \n",
    "    # 变换成512*512\n",
    "    data = np.reshape(data,(512,512))\n",
    "    print(data)\n",
    "    s = pd.DataFrame(data)\n",
    "    #print(s)\n",
    "    #new_im = Image.fromarray(data)\n",
    "    # 显示图片\n",
    "    #new_im.show()\n",
    "    #s.to_excel('C:/Users/Forry/Desktop/1.xlsx')\n",
    "    return data\n",
    "    \n",
    "data = loadImage()"
   ]
  },
  {
   "cell_type": "code",
   "execution_count": null,
   "metadata": {
    "scrolled": true
   },
   "outputs": [],
   "source": [
    "rows,cols=img.shape"
   ]
  },
  {
   "cell_type": "code",
   "execution_count": 22,
   "metadata": {
    "collapsed": true
   },
   "outputs": [
    {
     "name": "stdout",
     "output_type": "stream",
     "text": [
      "[array([[474.        , 264.00196078],\n",
      "       [473.00196078, 265.        ],\n",
      "       [473.00196078, 266.        ],\n",
      "       ...,\n",
      "       [474.00196078, 263.        ],\n",
      "       [474.00196078, 264.        ],\n",
      "       [474.        , 264.00196078]])]\n"
     ]
    }
   ],
   "source": [
    "edge = cv2.Canny(img, 100, 200)\n",
    "\n",
    "ans = []\n",
    "for y in range(0, edge.shape[0]):\n",
    "    for x in range(0, edge.shape[1]):\n",
    "        if edge[y, x] != 0:\n",
    "            ans = ans + [[x, y]]\n",
    "ans = np.array(ans)\n",
    "\n",
    "print(ans.shape)"
   ]
  },
  {
   "cell_type": "code",
   "execution_count": 40,
   "metadata": {},
   "outputs": [
    {
     "name": "stdout",
     "output_type": "stream",
     "text": [
      "[[ 56.69136879  56.69136879  56.69136879 ...  56.69136879  56.69136879\n",
      "   56.69136879]\n",
      " [ 56.69136879 255.         255.         ... 255.         255.\n",
      "   56.69136879]\n",
      " [ 56.69136879 255.         255.         ... 255.         255.\n",
      "   56.69136879]\n",
      " ...\n",
      " [ 56.69136879 255.         255.         ... 255.         255.\n",
      "   56.69136879]\n",
      " [ 56.69136879 255.         255.         ... 255.         255.\n",
      "   56.69136879]\n",
      " [ 56.69136879  56.69136879  56.69136879 ...  56.69136879  56.69136879\n",
      "   56.69136879]]\n"
     ]
    }
   ],
   "source": [
    "import numpy as np\n",
    "from PIL import Image\n",
    "\n",
    "def imconv(image_array,suanzi):\n",
    "    '''计算卷积\n",
    "        参数\n",
    "        image_array 原灰度图像矩阵\n",
    "        suanzi      算子\n",
    "        返回\n",
    "        原图像与算子卷积后的结果矩阵\n",
    "    '''\n",
    "    image = image_array.copy()     # 原图像矩阵的深拷贝\n",
    "    \n",
    "    dim1,dim2 = image.shape\n",
    "\n",
    "    # 对每个元素与算子进行乘积再求和(忽略最外圈边框像素)\n",
    "    for i in range(1,dim1-1):\n",
    "        for j in range(1,dim2-1):\n",
    "            image[i,j] = (image_array[(i-1):(i+2),(j-1):(j+2)]*suanzi).sum()\n",
    "    \n",
    "    # 由于卷积后灰度值不一定在0-255之间，统一化成0-255\n",
    "    image = image*(255.0/image.max())\n",
    "\n",
    "    # 返回结果矩阵\n",
    "    return image\n",
    "\n",
    "image = imconv(data,0.5)\n",
    "print(image)"
   ]
  },
  {
   "cell_type": "code",
   "execution_count": 32,
   "metadata": {},
   "outputs": [],
   "source": [
    "s = pd.DataFrame(image)\n",
    "s.to_excel('C:/Users/Forry/Desktop/3.xlsx')"
   ]
  },
  {
   "cell_type": "code",
   "execution_count": 43,
   "metadata": {},
   "outputs": [
    {
     "data": {
      "image/png": "[encoded data removed]",
      "text/plain": [
       "<Figure size 576x576 with 2 Axes>"
      ]
     },
     "metadata": {
      "needs_background": "light"
     },
     "output_type": "display_data"
    }
   ],
   "source": [
    "contours = measure.find_contours(data, 0.5)\n",
    "\n",
    "#绘制轮廓\n",
    "fig, axes = plt.subplots(1,2,figsize=(8,8))\n",
    "ax0, ax1= axes.ravel()\n",
    "ax0.imshow(data,plt.cm.gray)\n",
    "ax0.set_title('original image')\n",
    "\n",
    "rows,cols=data.shape\n",
    "\n",
    "ax1.axis([0,rows,cols,0])\n",
    "for n, contour in enumerate(contours):\n",
    "    ax1.plot(contour[:, 1], contour[:, 0], linewidth=2)\n",
    "ax1.axis('image')\n",
    "ax1.set_title('contours')\n",
    "plt.show()"
   ]
  },
  {
   "cell_type": "code",
   "execution_count": 47,
   "metadata": {},
   "outputs": [
    {
     "name": "stdout",
     "output_type": "stream",
     "text": [
      "AxesSubplot(0.547727,0.393773;0.352273x0.217454)\n"
     ]
    }
   ],
   "source": [
    "print(ax1)\n",
    "    "
   ]
  }
 ],
 "metadata": {
  "kernelspec": {
   "display_name": "Python 3",
   "language": "python",
   "name": "python3"
  },
  "language_info": {
   "codemirror_mode": {
    "name": "ipython",
    "version": 3
   },
   "file_extension": ".py",
   "mimetype": "text/x-python",
   "name": "python",
   "nbconvert_exporter": "python",
   "pygments_lexer": "ipython3",
   "version": "3.7.0"
  }
 },
 "nbformat": 4,
 "nbformat_minor": 2
}
