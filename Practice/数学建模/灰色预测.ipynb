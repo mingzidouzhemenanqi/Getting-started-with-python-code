{
 "cells": [
  {
   "cell_type": "code",
   "execution_count": 1,
   "metadata": {},
   "outputs": [],
   "source": [
    "import pandas as pd\n",
    "import numpy as np\n",
    "\n",
    "%matplotlib inline\n",
    "import matplotlib.pyplot as plt\n",
    "import matplotlib\n",
    "matplotlib.rcParams['font.sans-serif'] = ['FangSong'] # 指定默认字体\n",
    "matplotlib.rcParams['axes.unicode_minus'] = False # 解决保存图像是负号'-'显示为方块的问题"
   ]
  },
  {
   "cell_type": "code",
   "execution_count": 2,
   "metadata": {},
   "outputs": [],
   "source": [
    "class GrayForecast():\n",
    "#初始化\n",
    "    def __init__(self, data, datacolumn=None):\n",
    "        if isinstance(data, pd.core.frame.DataFrame):\n",
    "            self.data=data\n",
    "            try:\n",
    "                self.data.columns = ['数据']\n",
    "            except:\n",
    "                if not datacolumn:\n",
    "                    raise Exception('您传入的dataframe不止一列')\n",
    "                else:\n",
    "                    self.data = pd.DataFrame(data[datacolumn])\n",
    "                    self.data.columns=['数据']\n",
    "        elif isinstance(data, pd.core.series.Series):\n",
    "            self.data = pd.DataFrame(data, columns=['数据'])\n",
    "        else:\n",
    "            self.data = pd.DataFrame(data, columns=['数据'])\n",
    "\n",
    "        self.forecast_list = self.data.copy()\n",
    "\n",
    "        if datacolumn:\n",
    "            self.datacolumn = datacolumn\n",
    "        else:\n",
    "            self.datacolumn = None\n",
    "        #save arg:\n",
    "        #        data                DataFrame    数据\n",
    "        #        forecast_list       DataFrame    预测序列\n",
    "        #        datacolumn          string       数据的含义\n",
    "\n",
    "#级比校验\n",
    "    def level_check(self):\n",
    "        # 数据级比校验\n",
    "        n = len(self.data)\n",
    "        lambda_k = np.zeros(n-1)\n",
    "        for i in range(n-1):\n",
    "            lambda_k[i] = self.data.ix[i][\"数据\"]/self.data.ix[i+1][\"数据\"]\n",
    "            if lambda_k[i] < np.exp(-2/(n+1)) or lambda_k[i] > np.exp(2/(n+2)):\n",
    "                flag = False\n",
    "        else:\n",
    "            flag = True\n",
    "\n",
    "        self.lambda_k = lambda_k\n",
    "\n",
    "        if not flag:\n",
    "            print(\"级比校验失败，请对X(0)做平移变换\")\n",
    "            return False\n",
    "        else:\n",
    "            print(\"级比校验成功，请继续\")\n",
    "            return True\n",
    "    #save arg:\n",
    "    #        lambda_k            1-d list\n",
    "    \n",
    "#GM(1,1)建模\n",
    "    def GM_11_build_model(self, forecast=5):\n",
    "        if forecast > len(self.data):\n",
    "            raise Exception('您的数据行不够')\n",
    "        X_0 = np.array(self.forecast_list['数据'].tail(forecast))\n",
    "    #       1-AGO\n",
    "        X_1 = np.zeros(X_0.shape)\n",
    "        for i in range(X_0.shape[0]):\n",
    "            X_1[i] = np.sum(X_0[0:i+1])\n",
    "    #       紧邻均值生成序列\n",
    "        Z_1 = np.zeros(X_1.shape[0]-1)\n",
    "        for i in range(1, X_1.shape[0]):\n",
    "            Z_1[i-1] = -0.5*(X_1[i]+X_1[i-1])\n",
    "\n",
    "        B = np.append(np.array(np.mat(Z_1).T), np.ones(Z_1.shape).reshape((Z_1.shape[0], 1)), axis=1)\n",
    "        Yn = X_0[1:].reshape((X_0[1:].shape[0], 1))\n",
    "\n",
    "        B = np.mat(B)\n",
    "        Yn = np.mat(Yn)\n",
    "        a_ = (B.T*B)**-1 * B.T * Yn\n",
    "\n",
    "        a, b = np.array(a_.T)[0]\n",
    "\n",
    "        X_ = np.zeros(X_0.shape[0])\n",
    "        def f(k):\n",
    "            return (X_0[0]-b/a)*(1-np.exp(a))*np.exp(-a*(k))\n",
    "\n",
    "        self.forecast_list.loc[len(self.forecast_list)] = f(X_.shape[0])\n",
    "        print(f(X_.shape[0]))\n",
    "#预测\n",
    "    def forecast(self, time=5, forecast_data_len=5):\n",
    "        for i in range(time):\n",
    "            self.GM_11_build_model(forecast=forecast_data_len)\n",
    "#打印日志\n",
    "    def log(self):\n",
    "        res = self.forecast_list.copy()\n",
    "        if self.datacolumn:\n",
    "            res.columns = [self.datacolumn]\n",
    "        return res\n",
    "#重置\n",
    "    def reset(self):\n",
    "        self.forecast_list = self.data.copy()\n",
    "#作图\n",
    "    def plot(self):\n",
    "        self.forecast_list.plot()\n",
    "        if self.datacolumn:\n",
    "            plt.ylabel(self.datacolumn)\n",
    "            plt.legend([self.datacolumn])\n",
    "        plt.show()"
   ]
  },
  {
   "cell_type": "code",
   "execution_count": 5,
   "metadata": {},
   "outputs": [
    {
     "name": "stdout",
     "output_type": "stream",
     "text": [
      "     0   1\n",
      "0   20  25\n",
      "1   20  28\n",
      "2   38  30\n",
      "3   40  21\n",
      "4   25  18\n",
      "5   24  25\n",
      "6   19  25\n",
      "7   27  20\n",
      "8   16  33\n",
      "9   44  28\n",
      "10  28  28\n",
      "11  32  28\n",
      "12  21  24\n",
      "13  47  40\n",
      "14  32  31\n",
      "15  42  26\n",
      "16  26  42\n",
      "17  31  33\n",
      "18  47  51\n"
     ]
    }
   ],
   "source": [
    "df1 = pd.read_excel(\"C:/Users/Forry/Desktop/q1.xlsx\",sheet_name='Sheet1')\n",
    "print(df1)"
   ]
  },
  {
   "cell_type": "code",
   "execution_count": 8,
   "metadata": {},
   "outputs": [
    {
     "name": "stdout",
     "output_type": "stream",
     "text": [
      "57.54933888484373\n",
      "65.50568729382717\n",
      "81.72578913761666\n",
      "93.67066424131707\n",
      "111.1575196092294\n",
      "131.47456514214943\n",
      "153.39993778918068\n",
      "180.58535610357663\n",
      "211.24341557649987\n",
      "246.75148182004125\n",
      "             1\n",
      "0    25.000000\n",
      "1    28.000000\n",
      "2    30.000000\n",
      "3    21.000000\n",
      "4    18.000000\n",
      "5    25.000000\n",
      "6    25.000000\n",
      "7    20.000000\n",
      "8    33.000000\n",
      "9    28.000000\n",
      "10   28.000000\n",
      "11   28.000000\n",
      "12   24.000000\n",
      "13   40.000000\n",
      "14   31.000000\n",
      "15   26.000000\n",
      "16   42.000000\n",
      "17   33.000000\n",
      "18   51.000000\n",
      "19   57.549339\n",
      "20   65.505687\n",
      "21   81.725789\n",
      "22   93.670664\n",
      "23  111.157520\n",
      "24  131.474565\n",
      "25  153.399938\n",
      "26  180.585356\n",
      "27  211.243416\n",
      "28  246.751482\n"
     ]
    },
    {
     "data": {
      "image/png": "[encoded data removed]",
      "text/plain": [
       "<Figure size 432x288 with 1 Axes>"
      ]
     },
     "metadata": {
      "needs_background": "light"
     },
     "output_type": "display_data"
    }
   ],
   "source": [
    "#交通事故预测\n",
    "gf = GrayForecast(df1, 1)\n",
    "gf.forecast(10)\n",
    "#print(gf)\n",
    "print(gf.log())\n",
    "gf.plot()"
   ]
  },
  {
   "cell_type": "code",
   "execution_count": 15,
   "metadata": {},
   "outputs": [
    {
     "name": "stdout",
     "output_type": "stream",
     "text": [
      "196.06591159224294\n",
      "193.21853391787974\n",
      "210.1497499504743\n",
      "228.19412375438807\n",
      "237.35792571508398\n",
      "257.0767079745656\n",
      "273.079091478851\n",
      "290.06645968375494\n",
      "310.608986037577\n",
      "329.96126571166803\n",
      "         火灾（起）\n",
      "0    87.000000\n",
      "1    97.000000\n",
      "2   170.000000\n",
      "3   166.000000\n",
      "4   161.000000\n",
      "5   196.065912\n",
      "6   193.218534\n",
      "7   210.149750\n",
      "8   228.194124\n",
      "9   237.357926\n",
      "10  257.076708\n",
      "11  273.079091\n",
      "12  290.066460\n",
      "13  310.608986\n",
      "14  329.961266\n"
     ]
    },
    {
     "data": {
      "image/png": "[encoded data removed]",
      "text/plain": [
       "<Figure size 432x288 with 1 Axes>"
      ]
     },
     "metadata": {
      "needs_background": "light"
     },
     "output_type": "display_data"
    }
   ],
   "source": [
    "#火灾预测\n",
    "gf2 = GrayForecast(df2, '火灾（起）')\n",
    "gf2.forecast(10)\n",
    "#print(gf)\n",
    "print(gf2.log())\n",
    "gf2.plot()"
   ]
  }
 ],
 "metadata": {
  "kernelspec": {
   "display_name": "Python 3",
   "language": "python",
   "name": "python3"
  },
  "language_info": {
   "codemirror_mode": {
    "name": "ipython",
    "version": 3
   },
   "file_extension": ".py",
   "mimetype": "text/x-python",
   "name": "python",
   "nbconvert_exporter": "python",
   "pygments_lexer": "ipython3",
   "version": "3.7.0"
  }
 },
 "nbformat": 4,
 "nbformat_minor": 2
}
