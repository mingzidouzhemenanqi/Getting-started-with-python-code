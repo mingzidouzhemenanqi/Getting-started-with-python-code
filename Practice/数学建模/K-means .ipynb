{
 "cells": [
  {
   "cell_type": "code",
   "execution_count": 1,
   "metadata": {},
   "outputs": [],
   "source": [
    "import pandas as pd\n",
    "from sklearn.cluster import KMeans\n"
   ]
  },
  {
   "cell_type": "code",
   "execution_count": 11,
   "metadata": {},
   "outputs": [
    {
     "name": "stdout",
     "output_type": "stream",
     "text": [
      "      人口       面积      GDP\n",
      "0   6255  13.9600  30006.8\n",
      "1   2171   1.6807  30320.0\n",
      "2   3911  12.1400  35804.0\n",
      "3   2626  45.5000   8246.1\n",
      "4  11169  17.9800  97300.0\n"
     ]
    }
   ],
   "source": [
    "x = pd.read_excel('C:/Users/Forry/Desktop/人口面积GDP.xlsx')\n",
    "clf_KMeans=KMeans(n_clusters=4)\n",
    "print(x.head())"
   ]
  },
  {
   "cell_type": "code",
   "execution_count": 12,
   "metadata": {},
   "outputs": [
    {
     "name": "stdout",
     "output_type": "stream",
     "text": [
      "[2 2 2 3 1 0 0 3 2 2 0 2 2 0 1 0 0 0 3 3 1 0 0 2 2 0 3 0 0 2]\n"
     ]
    }
   ],
   "source": [
    "cluster=clf_KMeans.fit_predict(x)\n",
    "print(cluster)"
   ]
  }
 ],
 "metadata": {
  "kernelspec": {
   "display_name": "Python 3",
   "language": "python",
   "name": "python3"
  },
  "language_info": {
   "codemirror_mode": {
    "name": "ipython",
    "version": 3
   },
   "file_extension": ".py",
   "mimetype": "text/x-python",
   "name": "python",
   "nbconvert_exporter": "python",
   "pygments_lexer": "ipython3",
   "version": "3.7.0"
  }
 },
 "nbformat": 4,
 "nbformat_minor": 2
}
